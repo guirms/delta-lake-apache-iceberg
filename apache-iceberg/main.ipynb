{
 "cells": [
  {
   "cell_type": "code",
   "execution_count": 5,
   "id": "7ea7474a",
   "metadata": {
    "scrolled": true
   },
   "outputs": [
    {
     "name": "stdout",
     "output_type": "stream",
     "text": [
      "Spark Running\n",
      "+-------+---------+---------+--------+--------+--------+--------+\n",
      "|FL_DATE|DEP_DELAY|ARR_DELAY|AIR_TIME|DISTANCE|DEP_TIME|ARR_TIME|\n",
      "+-------+---------+---------+--------+--------+--------+--------+\n",
      "+-------+---------+---------+--------+--------+--------+--------+\n",
      "\n"
     ]
    }
   ],
   "source": [
    "import os\n",
    "import pyspark\n",
    "from pyspark.sql import SparkSession\n",
    "\n",
    "# Configurações do iceberg\n",
    "conf = (\n",
    "    pyspark.SparkConf()\n",
    "        .setAppName('app_name')\n",
    "  \t\t# Pacotes\n",
    "        .set('spark.jars.packages', 'org.apache.iceberg:iceberg-spark-runtime-3.3_2.12:1.4.3,software.amazon.awssdk:bundle:2.17.178,software.amazon.awssdk:url-connection-client:2.17.178')\n",
    "  \t\t# Extensões do SQL\n",
    "        .set('spark.sql.extensions', 'org.apache.iceberg.spark.extensions.IcebergSparkSessionExtensions')\n",
    "  \t\t# Configurações do catalog\n",
    "        .set('spark.sql.catalog.iceberg', 'org.apache.iceberg.spark.SparkCatalog')\n",
    "        .set('spark.sql.catalog.iceberg.type', 'hadoop')\n",
    "        .set('spark.sql.catalog.iceberg.warehouse', 'iceberg-warehouse')\n",
    "        .set(\"spark.sql.catalogImplementation\",\"hive\")\n",
    ")\n",
    "\n",
    "spark = SparkSession.builder.config(conf=conf).getOrCreate()\n",
    "print(\"Spark Running\")\n",
    "\n",
    "# Criar tabela com base no dataset\n",
    "#df = spark.read.option(\"header\",True).parquet(\"./parquet-data/flights.parquet\")\n",
    "#df.count()\n",
    "#df.writeTo(\"iceberg.flights_data_1m\").create()\n",
    "\n",
    "# Inserir\n",
    "#df = spark.sql(\"\"\"INSERT INTO iceberg.flights_data_1m\n",
    "#(FL_DATE, DEP_DELAY, ARR_DELAY, AIR_TIME, DISTANCE, DEP_TIME, ARR_TIME) VALUES \n",
    "#(NOW(), 7, -3, 480, 3711, 13.21, 14.2121)\"\"\")\n",
    "\n",
    "# Atualizar\n",
    "#df = spark.sql(\"\"\"UPDATE iceberg.flights_data_1m SET DEP_DELAY = 8 WHERE FL_DATE > '2024-01-01'\"\"\")\n",
    "\n",
    "# Deletar\n",
    "#df = spark.sql(\"\"\"DELETE FROM iceberg.flights_data_1m WHERE FL_DATE > '2024-01-01' AND DEP_DELAY = 8\"\"\")\n",
    "\n",
    "# Comando de ler\n",
    "df = spark.sql(\"SELECT * FROM iceberg.flights_data_1m WHERE FL_DATE > '2024-01-01' ORDER BY FL_DATE DESC LIMIT 5\")\n",
    "\n",
    "df.show()"
   ]
  },
  {
   "cell_type": "code",
   "execution_count": null,
   "id": "1f0bc950",
   "metadata": {},
   "outputs": [],
   "source": []
  },
  {
   "cell_type": "code",
   "execution_count": null,
   "id": "c3cebef3",
   "metadata": {},
   "outputs": [],
   "source": []
  },
  {
   "cell_type": "code",
   "execution_count": null,
   "id": "9b97e12f",
   "metadata": {},
   "outputs": [],
   "source": []
  }
 ],
 "metadata": {
  "kernelspec": {
   "display_name": "Python 3 (ipykernel)",
   "language": "python",
   "name": "python3"
  },
  "language_info": {
   "codemirror_mode": {
    "name": "ipython",
    "version": 3
   },
   "file_extension": ".py",
   "mimetype": "text/x-python",
   "name": "python",
   "nbconvert_exporter": "python",
   "pygments_lexer": "ipython3",
   "version": "3.10.6"
  }
 },
 "nbformat": 4,
 "nbformat_minor": 5
}
