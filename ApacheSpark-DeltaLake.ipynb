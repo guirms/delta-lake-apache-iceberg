{
  "nbformat": 4,
  "nbformat_minor": 0,
  "metadata": {
    "colab": {
      "provenance": [],
      "authorship_tag": "ABX9TyO4UNnP+B1nWJKn401LCq4g",
      "include_colab_link": true
    },
    "kernelspec": {
      "name": "python3",
      "display_name": "Python 3"
    },
    "language_info": {
      "name": "python"
    }
  },
  "cells": [
    {
      "cell_type": "markdown",
      "metadata": {
        "id": "view-in-github",
        "colab_type": "text"
      },
      "source": [
        "<a href=\"https://colab.research.google.com/github/guirms/delta-lake-apache-iceberg/blob/main/ApacheSpark-DeltaLake.ipynb\" target=\"_parent\"><img src=\"https://colab.research.google.com/assets/colab-badge.svg\" alt=\"Open In Colab\"/></a>"
      ]
    },
    {
      "cell_type": "code",
      "execution_count": null,
      "metadata": {
        "id": "CfH-cIZAz6D1"
      },
      "outputs": [],
      "source": [
        "!pip install pyspark"
      ]
    },
    {
      "cell_type": "code",
      "source": [
        "!pip install delta-spark"
      ],
      "metadata": {
        "id": "feWV4Hpn4JNh"
      },
      "execution_count": null,
      "outputs": []
    },
    {
      "cell_type": "code",
      "source": [
        "import pyspark\n",
        "from delta import *\n",
        "\n",
        "#  Crie uma sessão Spark com Delta\n",
        "builder = pyspark.sql.SparkSession.builder.appName(\"DeltaTutorial\") \\\n",
        "    .config(\"spark.sql.extensions\", \"io.delta.sql.DeltaSparkSessionExtension\") \\\n",
        "    .config(\"spark.sql.catalog.spark_catalog\", \"org.apache.spark.sql.delta.catalog.DeltaCatalog\")\n",
        "\n",
        "# Obtém uma serssão spark ou cria uma nova\n",
        "spark = configure_spark_with_delta_pip(builder).getOrCreate()\n",
        "\n",
        "# Configuração para exibir apenas Logs de erro ou superior.\n",
        "spark.sparkContext.setLogLevel(\"ERROR\")"
      ],
      "metadata": {
        "id": "j3f0Zw_z4KcI"
      },
      "execution_count": null,
      "outputs": []
    },
    {
      "cell_type": "code",
      "source": [
        "# Carregando dados do data frame Flights 1m.parquet\n",
        "df = spark.read.parquet(\"/content/Flights 1m.parquet\")\n",
        "\n",
        "# Inserindo dados na tabela delta\n",
        "df.write.mode(saveMode=\"overwrite\").format(\"delta\").save(\"data/delta-table\")"
      ],
      "metadata": {
        "id": "clrbhYrB5aj1"
      },
      "execution_count": null,
      "outputs": []
    },
    {
      "cell_type": "code",
      "source": [
        "# Lendo os dados\n",
        "print(\"Reading delta file ...!\")\n",
        "\n",
        "got_df = spark.read.format(\"delta\").load(\"data/delta-table\")\n",
        "got_df.show()"
      ],
      "metadata": {
        "id": "Xfdu3O7x5UOU"
      },
      "execution_count": null,
      "outputs": []
    },
    {
      "cell_type": "code",
      "source": [
        "# Configurando para fazer os comandos INSERT, UPDATE E DELETE\n",
        "from delta.tables import *\n",
        "from pyspark.sql.types import DateType, ShortType, FloatType\n",
        "\n",
        "delta_table = DeltaTable.forPath(spark, \"/content/data/delta-table\")"
      ],
      "metadata": {
        "id": "IaKg67697VBd"
      },
      "execution_count": null,
      "outputs": []
    },
    {
      "cell_type": "code",
      "source": [
        "# Lendo os dados\n",
        "got_df = spark.read.format(\"delta\").load(\"data/delta-table\")\n",
        "orderby_df = got_df.orderBy(got_df.FL_DATE.desc())\n",
        "\n",
        "orderby_df.show()"
      ],
      "metadata": {
        "colab": {
          "base_uri": "https://localhost:8080/"
        },
        "id": "LMV1KS06In68",
        "outputId": "5d9d7cf0-6d51-4c4e-acc9-030438d4cb12"
      },
      "execution_count": 36,
      "outputs": [
        {
          "output_type": "stream",
          "name": "stdout",
          "text": [
            "+----------+---------+---------+--------+--------+---------+---------+\n",
            "|   FL_DATE|DEP_DELAY|ARR_DELAY|AIR_TIME|DISTANCE| DEP_TIME| ARR_TIME|\n",
            "+----------+---------+---------+--------+--------+---------+---------+\n",
            "|2006-02-28|        4|        7|      30|     183| 8.283334| 9.066667|\n",
            "|2006-02-28|       -2|      -10|     338|    2475|10.966666|     13.9|\n",
            "|2006-02-28|      164|      142|     250|    2329|15.983334|    23.45|\n",
            "|2006-02-28|       -4|       21|     568|    4244|     8.85|    14.75|\n",
            "|2006-02-28|        1|       -7|      68|     539|     9.55|10.883333|\n",
            "|2006-02-28|       -7|      -21|     281|    2586|15.883333|23.933332|\n",
            "|2006-02-28|       -1|        3|      85|     549| 5.983333|      7.6|\n",
            "|2006-02-28|       -7|        0|     340|    2475| 8.883333|12.166667|\n",
            "|2006-02-28|       -7|      -15|      85|     626|11.633333|13.216666|\n",
            "|2006-02-28|       -1|        2|     338|    2475|17.983334|     21.4|\n",
            "|2006-02-28|       -7|      -16|      84|     626|    13.95|15.466666|\n",
            "|2006-02-28|       -9|      -13|     338|    2475|    11.85|14.833333|\n",
            "|2006-02-28|       -6|       -5|      72|     503|    17.95|    19.35|\n",
            "|2006-02-28|       -1|      -13|     268|    2475|15.233334|23.183332|\n",
            "|2006-02-28|        6|        6|      40|     261|16.616667|     17.5|\n",
            "|2006-02-28|      -12|       -1|     498|    3784| 9.883333|14.666667|\n",
            "|2006-02-28|      -15|      -15|      38|     261|    21.75|     22.6|\n",
            "|2006-02-28|        0|      -26|     275|    2586|7.8333335|15.716666|\n",
            "|2006-02-28|       -3|       -1|      70|     503|20.033333|    21.35|\n",
            "|2006-02-28|        8|       -2|     471|    3711|    12.05|16.316668|\n",
            "+----------+---------+---------+--------+--------+---------+---------+\n",
            "only showing top 20 rows\n",
            "\n"
          ]
        }
      ]
    },
    {
      "cell_type": "code",
      "source": [
        "# INSERT\n",
        "from datetime import datetime\n",
        "\n",
        "data = [(datetime(2024, 4, 25), 12, 10, 103, 650, 17.8, 20.57845)]\n",
        "\n",
        "schema = StructType([\n",
        "    StructField(\"FL_DATE\", DateType(), True),\n",
        "    StructField(\"DEP_DELAY\", ShortType(), True),\n",
        "    StructField(\"ARR_DELAY\", ShortType(), True),\n",
        "    StructField(\"AIR_TIME\", ShortType(), True),\n",
        "    StructField(\"DISTANCE\", ShortType(), True),\n",
        "    StructField(\"DEP_TIME\", FloatType(), True),\n",
        "    StructField(\"ARR_TIME\", FloatType(), True),\n",
        "])\n",
        "\n",
        "new_df = spark.createDataFrame(data=data, schema=schema)\n",
        "new_df.write.mode(saveMode=\"append\").format(\"delta\").save(\"data/delta-table\")"
      ],
      "metadata": {
        "id": "SvA-cYU4IcFI"
      },
      "execution_count": 38,
      "outputs": []
    },
    {
      "cell_type": "code",
      "source": [
        "# Vendo o novo dado\n",
        "got_df = spark.read.format(\"delta\").load(\"data/delta-table\")\n",
        "orderby_df = got_df.orderBy(got_df.FL_DATE.desc())\n",
        "\n",
        "orderby_df.show()"
      ],
      "metadata": {
        "colab": {
          "base_uri": "https://localhost:8080/"
        },
        "id": "WvCfKGN4Iru2",
        "outputId": "38a1075b-d638-41ab-e31e-12717bed8d75"
      },
      "execution_count": 39,
      "outputs": [
        {
          "output_type": "stream",
          "name": "stdout",
          "text": [
            "+----------+---------+---------+--------+--------+---------+---------+\n",
            "|   FL_DATE|DEP_DELAY|ARR_DELAY|AIR_TIME|DISTANCE| DEP_TIME| ARR_TIME|\n",
            "+----------+---------+---------+--------+--------+---------+---------+\n",
            "|2024-04-25|       12|       10|     103|     650|     17.8| 20.57845|\n",
            "|2006-02-28|       -2|      -10|     338|    2475|10.966666|     13.9|\n",
            "|2006-02-28|        4|        7|      30|     183| 8.283334| 9.066667|\n",
            "|2006-02-28|       -4|       21|     568|    4244|     8.85|    14.75|\n",
            "|2006-02-28|      164|      142|     250|    2329|15.983334|    23.45|\n",
            "|2006-02-28|       -7|      -21|     281|    2586|15.883333|23.933332|\n",
            "|2006-02-28|        1|       -7|      68|     539|     9.55|10.883333|\n",
            "|2006-02-28|       -7|        0|     340|    2475| 8.883333|12.166667|\n",
            "|2006-02-28|       -1|        3|      85|     549| 5.983333|      7.6|\n",
            "|2006-02-28|       -1|        2|     338|    2475|17.983334|     21.4|\n",
            "|2006-02-28|       -7|      -15|      85|     626|11.633333|13.216666|\n",
            "|2006-02-28|       -9|      -13|     338|    2475|    11.85|14.833333|\n",
            "|2006-02-28|       -7|      -16|      84|     626|    13.95|15.466666|\n",
            "|2006-02-28|       -1|      -13|     268|    2475|15.233334|23.183332|\n",
            "|2006-02-28|       -6|       -5|      72|     503|    17.95|    19.35|\n",
            "|2006-02-28|      -12|       -1|     498|    3784| 9.883333|14.666667|\n",
            "|2006-02-28|        6|        6|      40|     261|16.616667|     17.5|\n",
            "|2006-02-28|        0|      -26|     275|    2586|7.8333335|15.716666|\n",
            "|2006-02-28|      -15|      -15|      38|     261|    21.75|     22.6|\n",
            "|2006-02-28|        8|       -2|     471|    3711|    12.05|16.316668|\n",
            "+----------+---------+---------+--------+--------+---------+---------+\n",
            "only showing top 20 rows\n",
            "\n"
          ]
        }
      ]
    },
    {
      "cell_type": "code",
      "source": [
        "# UPDATE\n",
        "delta_table.update(\n",
        "    condition=\"FL_DATE = '2024-04-25' AND ARR_DELAY = '10'\",\n",
        "    set={\"ARR_DELAY\": '12'}\n",
        ")"
      ],
      "metadata": {
        "id": "nGJAhB8R99xj"
      },
      "execution_count": 40,
      "outputs": []
    },
    {
      "cell_type": "code",
      "source": [
        "# Vendo o dado atualizado\n",
        "got_df = spark.read.format(\"delta\").load(\"data/delta-table\")\n",
        "orderby_df = got_df.orderBy(got_df.FL_DATE.desc())\n",
        "\n",
        "orderby_df.show()"
      ],
      "metadata": {
        "colab": {
          "base_uri": "https://localhost:8080/"
        },
        "id": "2OrBqpkiIz4x",
        "outputId": "ba69c3ab-f051-476a-f01b-faffd284558b"
      },
      "execution_count": 41,
      "outputs": [
        {
          "output_type": "stream",
          "name": "stdout",
          "text": [
            "+----------+---------+---------+--------+--------+---------+---------+\n",
            "|   FL_DATE|DEP_DELAY|ARR_DELAY|AIR_TIME|DISTANCE| DEP_TIME| ARR_TIME|\n",
            "+----------+---------+---------+--------+--------+---------+---------+\n",
            "|2024-04-25|       12|       12|     103|     650|     17.8| 20.57845|\n",
            "|2006-02-28|       -2|      -10|     338|    2475|10.966666|     13.9|\n",
            "|2006-02-28|        4|        7|      30|     183| 8.283334| 9.066667|\n",
            "|2006-02-28|       -4|       21|     568|    4244|     8.85|    14.75|\n",
            "|2006-02-28|      164|      142|     250|    2329|15.983334|    23.45|\n",
            "|2006-02-28|       -7|      -21|     281|    2586|15.883333|23.933332|\n",
            "|2006-02-28|        1|       -7|      68|     539|     9.55|10.883333|\n",
            "|2006-02-28|       -7|        0|     340|    2475| 8.883333|12.166667|\n",
            "|2006-02-28|       -1|        3|      85|     549| 5.983333|      7.6|\n",
            "|2006-02-28|       -1|        2|     338|    2475|17.983334|     21.4|\n",
            "|2006-02-28|       -7|      -15|      85|     626|11.633333|13.216666|\n",
            "|2006-02-28|       -9|      -13|     338|    2475|    11.85|14.833333|\n",
            "|2006-02-28|       -7|      -16|      84|     626|    13.95|15.466666|\n",
            "|2006-02-28|       -1|      -13|     268|    2475|15.233334|23.183332|\n",
            "|2006-02-28|       -6|       -5|      72|     503|    17.95|    19.35|\n",
            "|2006-02-28|      -12|       -1|     498|    3784| 9.883333|14.666667|\n",
            "|2006-02-28|        6|        6|      40|     261|16.616667|     17.5|\n",
            "|2006-02-28|        0|      -26|     275|    2586|7.8333335|15.716666|\n",
            "|2006-02-28|      -15|      -15|      38|     261|    21.75|     22.6|\n",
            "|2006-02-28|        8|       -2|     471|    3711|    12.05|16.316668|\n",
            "+----------+---------+---------+--------+--------+---------+---------+\n",
            "only showing top 20 rows\n",
            "\n"
          ]
        }
      ]
    },
    {
      "cell_type": "code",
      "source": [
        "# DELETE\n",
        "delta_table.delete(\"FL_DATE = '2024-04-25'\")"
      ],
      "metadata": {
        "id": "XCLNIdef6sDR"
      },
      "execution_count": 42,
      "outputs": []
    },
    {
      "cell_type": "code",
      "source": [
        "# Vendo o exclusão do dado\n",
        "got_df = spark.read.format(\"delta\").load(\"data/delta-table\")\n",
        "orderby_df = got_df.orderBy(got_df.FL_DATE.desc())\n",
        "\n",
        "orderby_df.show()"
      ],
      "metadata": {
        "id": "9PiO__Sp_uYd",
        "colab": {
          "base_uri": "https://localhost:8080/"
        },
        "outputId": "650cd6e4-6032-4dc9-b780-ea014e9f350c"
      },
      "execution_count": 43,
      "outputs": [
        {
          "output_type": "stream",
          "name": "stdout",
          "text": [
            "+----------+---------+---------+--------+--------+---------+---------+\n",
            "|   FL_DATE|DEP_DELAY|ARR_DELAY|AIR_TIME|DISTANCE| DEP_TIME| ARR_TIME|\n",
            "+----------+---------+---------+--------+--------+---------+---------+\n",
            "|2006-02-28|        4|        7|      30|     183| 8.283334| 9.066667|\n",
            "|2006-02-28|       -2|      -10|     338|    2475|10.966666|     13.9|\n",
            "|2006-02-28|      164|      142|     250|    2329|15.983334|    23.45|\n",
            "|2006-02-28|       -4|       21|     568|    4244|     8.85|    14.75|\n",
            "|2006-02-28|        1|       -7|      68|     539|     9.55|10.883333|\n",
            "|2006-02-28|       -7|      -21|     281|    2586|15.883333|23.933332|\n",
            "|2006-02-28|       -1|        3|      85|     549| 5.983333|      7.6|\n",
            "|2006-02-28|       -7|        0|     340|    2475| 8.883333|12.166667|\n",
            "|2006-02-28|       -7|      -15|      85|     626|11.633333|13.216666|\n",
            "|2006-02-28|       -1|        2|     338|    2475|17.983334|     21.4|\n",
            "|2006-02-28|       -7|      -16|      84|     626|    13.95|15.466666|\n",
            "|2006-02-28|       -9|      -13|     338|    2475|    11.85|14.833333|\n",
            "|2006-02-28|       -6|       -5|      72|     503|    17.95|    19.35|\n",
            "|2006-02-28|       -1|      -13|     268|    2475|15.233334|23.183332|\n",
            "|2006-02-28|        6|        6|      40|     261|16.616667|     17.5|\n",
            "|2006-02-28|      -12|       -1|     498|    3784| 9.883333|14.666667|\n",
            "|2006-02-28|      -15|      -15|      38|     261|    21.75|     22.6|\n",
            "|2006-02-28|        0|      -26|     275|    2586|7.8333335|15.716666|\n",
            "|2006-02-28|       -3|       -1|      70|     503|20.033333|    21.35|\n",
            "|2006-02-28|        8|       -2|     471|    3711|    12.05|16.316668|\n",
            "+----------+---------+---------+--------+--------+---------+---------+\n",
            "only showing top 20 rows\n",
            "\n"
          ]
        }
      ]
    }
  ]
}